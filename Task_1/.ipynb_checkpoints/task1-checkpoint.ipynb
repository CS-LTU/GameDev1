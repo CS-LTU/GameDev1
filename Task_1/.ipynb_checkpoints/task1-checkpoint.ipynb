{
 "cells": [
  {
   "cell_type": "markdown",
   "metadata": {},
   "source": [
    "# Step 1\n",
    "Generate 6 random numbers\n",
    "\n",
    "The random package allows us to create pseudo-random numbers.\n",
    "Read online at random package documentation. "
   ]
  },
  {
   "cell_type": "code",
   "execution_count": null,
   "metadata": {},
   "outputs": [],
   "source": [
    "import random"
   ]
  },
  {
   "cell_type": "code",
   "execution_count": 13,
   "metadata": {},
   "outputs": [
    {
     "name": "stdout",
     "output_type": "stream",
     "text": [
      "10 3 39 36 58 3\n"
     ]
    }
   ],
   "source": [
    "num1 = random.randint(1, 59)\n",
    "num2 = random.randint(1, 59)\n",
    "num3 = random.randint(1, 59)\n",
    "num4 = random.randint(1, 59)\n",
    "num5 = random.randint(1, 59)\n",
    "num6 = random.randint(1, 59)\n",
    "print(num1, num2, num3, num4, num5, num6)"
   ]
  },
  {
   "cell_type": "markdown",
   "metadata": {},
   "source": [
    "# Step 2i\n",
    "Save all numbers into a list\n",
    "We can achieve this using a list. "
   ]
  },
  {
   "cell_type": "code",
   "execution_count": 14,
   "metadata": {},
   "outputs": [
    {
     "name": "stdout",
     "output_type": "stream",
     "text": [
      "[16, 32, 38, 20, 44, 26]\n"
     ]
    }
   ],
   "source": [
    "num1 = random.randint(1, 59)\n",
    "num2 = random.randint(1, 59)\n",
    "num3 = random.randint(1, 59)\n",
    "num4 = random.randint(1, 59)\n",
    "num5 = random.randint(1, 59)\n",
    "num6 = random.randint(1, 59)\n",
    "numList = [num1, num2, num3, num4, num5, num6]\n",
    "print(numList)"
   ]
  },
  {
   "cell_type": "markdown",
   "metadata": {},
   "source": [
    "# Step 2ii \n",
    "Let's use a for loop instead of repeating statements"
   ]
  },
  {
   "cell_type": "code",
   "execution_count": 15,
   "metadata": {},
   "outputs": [
    {
     "name": "stdout",
     "output_type": "stream",
     "text": [
      "[56, 45, 35, 6, 51, 12]\n"
     ]
    }
   ],
   "source": [
    "import random\n",
    "\n",
    "numList = []\n",
    "\n",
    "for i in range(0, 6):\n",
    "  num = random.randint(1, 59)\n",
    "  numList.append(num)\n",
    "print(numList)"
   ]
  },
  {
   "cell_type": "markdown",
   "metadata": {},
   "source": [
    "# Step 3: No repeated numbers \n",
    "The national Lottery does not have repeated numbers."
   ]
  },
  {
   "cell_type": "code",
   "execution_count": 16,
   "metadata": {},
   "outputs": [],
   "source": [
    "import random\n",
    "\n",
    "numList = []\n",
    "\n",
    "for i in range(0, 6):\n",
    "  num = random.randint(1, 59)\n",
    "  while num in numList:\n",
    "    number = random.randint(1, 50)\n",
    "\n",
    "  numList.append(num)"
   ]
  },
  {
   "cell_type": "markdown",
   "metadata": {},
   "source": [
    "# Step 4: Display the winner\n",
    "Display the winner set of numbers"
   ]
  },
  {
   "cell_type": "code",
   "execution_count": 17,
   "metadata": {},
   "outputs": [
    {
     "name": "stdout",
     "output_type": "stream",
     "text": [
      "The winner set of numbers are: \n",
      "[22, 31, 35, 39, 41, 48]\n"
     ]
    }
   ],
   "source": [
    "import random\n",
    "\n",
    "numList = []\n",
    "\n",
    "for i in range(0, 6):\n",
    "  num = random.randint(1, 59)\n",
    "  while num in numList:\n",
    "    number = random.randint(1, 50)\n",
    "\n",
    "  numList.append(num)\n",
    "\n",
    "numList.sort()\n",
    "\n",
    "print(\"The winner set of numbers are: \")\n",
    "print(numList)"
   ]
  }
 ],
 "metadata": {
  "kernelspec": {
   "display_name": "Python 3 (ipykernel)",
   "language": "python",
   "name": "python3"
  },
  "language_info": {
   "codemirror_mode": {
    "name": "ipython",
    "version": 3
   },
   "file_extension": ".py",
   "mimetype": "text/x-python",
   "name": "python",
   "nbconvert_exporter": "python",
   "pygments_lexer": "ipython3",
   "version": "3.9.13"
  }
 },
 "nbformat": 4,
 "nbformat_minor": 2
}
